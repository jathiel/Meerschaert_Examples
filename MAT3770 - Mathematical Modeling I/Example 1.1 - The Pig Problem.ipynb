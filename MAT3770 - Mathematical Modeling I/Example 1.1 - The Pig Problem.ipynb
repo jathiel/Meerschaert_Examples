{
 "cells": [
  {
   "cell_type": "markdown",
   "metadata": {
    "collapsed": false
   },
   "source": [
    "# Example 1.1 - The Pig Problem #\n",
    "\n",
    "A pig weighing 200 pounds gains 5 pounds per day and costs 45 cents a day to keep. The market price for pigs is 65 cents per pound, but is falling 1 cent per day. When should the pig be sold?\n",
    "\n",
    "## **Variables**\n",
    "\n",
    "$t =$ time (days)\n",
    "\n",
    "$w =$  weight (lbs)\n",
    "\n",
    "$p =$  price (\\$ per lb)\n",
    "\n",
    "$C =$  cost (\\$)\n",
    "\n",
    "$R =$  revenue (\\$)\n",
    "\n",
    "$P =$  profit (\\$)\n",
    "\n",
    "## **Assumptions**\n",
    "\n",
    "$w = 200+5t$\n",
    "\n",
    "$p = 0.65-0.01t$\n",
    "\n",
    "$R = w\\cdot p$\n",
    "\n",
    "$C = 0.45t$\n",
    "\n",
    "$P = R-C$\n",
    "\n",
    "$0 \\leq t \\leq 65$\n",
    "\n",
    "## **Objective**\n",
    "\n",
    "Maximize $P$."
   ]
  },
  {
   "cell_type": "markdown",
   "metadata": {
    "collapsed": false
   },
   "source": [
    "We begin by plotting $P(t)$ to get a general sense of where the maximum of the function is located."
   ]
  },
  {
   "cell_type": "code",
   "execution_count": 1,
   "metadata": {
    "collapsed": false
   },
   "outputs": [
   ],
   "source": [
    "w(t) = 200 + 5*t\n",
    "p(t) = 0.65 - 0.01*t\n",
    "R(t) = w(t) * p(t)\n",
    "C(t) = 0.45*t\n",
    "P(t) = R(t) - C(t)"
   ]
  },
  {
   "cell_type": "code",
   "execution_count": 2,
   "metadata": {
    "collapsed": false,
    "scrolled": true
   },
   "outputs": [
    {
     "data": {
      "image/png": "[encoded data removed]"
     },
     "execution_count": 2,
     "metadata": {
     },
     "output_type": "execute_result"
    }
   ],
   "source": [
    "plot(P,(t,0,65))"
   ]
  },
  {
   "cell_type": "markdown",
   "metadata": {
    "collapsed": false
   },
   "source": [
    "This is a single variable optimization problem. We will determine the critical points of the profit function by solving the equation $P'(t) = 0$."
   ]
  },
  {
   "cell_type": "code",
   "execution_count": 3,
   "metadata": {
    "collapsed": false
   },
   "outputs": [
    {
     "data": {
      "text/plain": [
       "[t == 8]"
      ]
     },
     "execution_count": 3,
     "metadata": {
     },
     "output_type": "execute_result"
    }
   ],
   "source": [
    "solve(P.diff(t)==0,t)"
   ]
  },
  {
   "cell_type": "markdown",
   "metadata": {
    "collapsed": false
   },
   "source": [
    "The above computation shows that there is a critical point at $t=8$ days.\n",
    "\n",
    "We use the 2nd derivative test to determine if the critical point is a local max or min."
   ]
  },
  {
   "cell_type": "code",
   "execution_count": 4,
   "metadata": {
    "collapsed": false
   },
   "outputs": [
   ],
   "source": [
    "PfirstDeriv(t) = P.diff()\n",
    "PsecondDeriv(t) = PfirstDeriv.diff()"
   ]
  },
  {
   "cell_type": "code",
   "execution_count": 5,
   "metadata": {
    "collapsed": false
   },
   "outputs": [
    {
     "data": {
      "text/plain": [
       "-0.100000000000000"
      ]
     },
     "execution_count": 5,
     "metadata": {
     },
     "output_type": "execute_result"
    }
   ],
   "source": [
    "PsecondDeriv(8)"
   ]
  },
  {
   "cell_type": "markdown",
   "metadata": {
    "collapsed": false
   },
   "source": [
    "Since $P''(8) < 0$, then our critical point is a local max. In fact, that graph of $P$ shows that this is the max value in the interval $[0,65]$"
   ]
  },
  {
   "cell_type": "code",
   "execution_count": 6,
   "metadata": {
    "collapsed": false
   },
   "outputs": [
    {
     "data": {
      "text/plain": [
       "133.200000000000"
      ]
     },
     "execution_count": 6,
     "metadata": {
     },
     "output_type": "execute_result"
    }
   ],
   "source": [
    "P(8)"
   ]
  },
  {
   "cell_type": "markdown",
   "metadata": {
    "collapsed": false
   },
   "source": [
    "The optimal time to sell the pig is in 8 days, which gives a maximum profit of \\$133.20."
   ]
  },
  {
   "cell_type": "markdown",
   "metadata": {
    "collapsed": false
   },
   "source": [
    "We wish to compute the sensitivity of the optimal selling time with respect to the daily price drop for the pig. To do this we must create a profit function, $P_r$, of two variables, $t$ and $r$."
   ]
  },
  {
   "cell_type": "code",
   "execution_count": 7,
   "metadata": {
    "collapsed": false
   },
   "outputs": [
   ],
   "source": [
    "pr(t,r) = 0.65 - r*t\n",
    "Rr(t,r) = w(t) * pr(t,r)\n",
    "Pr(t,r) = Rr(t,r) - C(t)"
   ]
  },
  {
   "cell_type": "code",
   "execution_count": 10,
   "metadata": {
    "collapsed": false
   },
   "outputs": [
    {
     "data": {
      "text/html": [
       "<html><script type=\"math/tex; mode=display\">\\newcommand{\\Bold}[1]{\\mathbf{#1}}\\left[t = -\\frac{500 \\, r - 7}{25 \\, r}\\right]</script></html>"
      ]
     },
     "execution_count": 10,
     "metadata": {
     },
     "output_type": "execute_result"
    }
   ],
   "source": [
    "sol = solve(Pr.diff(t)==0,t)\n",
    "show(sol)"
   ]
  },
  {
   "cell_type": "markdown",
   "metadata": {
    "collapsed": false
   },
   "source": [
    "The above equality gives the optimal selling time as a function of the variable $r$. We refer to this function as $t_{op}$ and compute $S(t_{op},r).$"
   ]
  },
  {
   "cell_type": "code",
   "execution_count": 14,
   "metadata": {
    "collapsed": false
   },
   "outputs": [
   ],
   "source": [
    "top(r) = sol[0].rhs()"
   ]
  },
  {
   "cell_type": "code",
   "execution_count": 15,
   "metadata": {
    "collapsed": false
   },
   "outputs": [
    {
     "data": {
      "text/plain": [
       "-1/25*(500*r - 7)/r"
      ]
     },
     "execution_count": 15,
     "metadata": {
     },
     "output_type": "execute_result"
    }
   ],
   "source": [
    "top(r)"
   ]
  },
  {
   "cell_type": "code",
   "execution_count": 16,
   "metadata": {
    "collapsed": false
   },
   "outputs": [
   ],
   "source": [
    "S_top_r(r) = top.diff()*r/top"
   ]
  },
  {
   "cell_type": "code",
   "execution_count": 17,
   "metadata": {
    "collapsed": false
   },
   "outputs": [
    {
     "data": {
      "text/plain": [
       "r |--> -r^2*((500*r - 7)/r^2 - 500/r)/(500*r - 7)"
      ]
     },
     "execution_count": 17,
     "metadata": {
     },
     "output_type": "execute_result"
    }
   ],
   "source": [
    "S_top_r"
   ]
  },
  {
   "cell_type": "code",
   "execution_count": 18,
   "metadata": {
    "collapsed": false
   },
   "outputs": [
    {
     "data": {
      "text/html": [
       "<html><script type=\"math/tex; mode=display\">\\newcommand{\\Bold}[1]{\\mathbf{#1}}r \\ {\\mapsto}\\ -\\frac{r^{2} {\\left(\\frac{500 \\, r - 7}{r^{2}} - \\frac{500}{r}\\right)}}{500 \\, r - 7}</script></html>"
      ]
     },
     "execution_count": 18,
     "metadata": {
     },
     "output_type": "execute_result"
    }
   ],
   "source": [
    "show(S_top_r)"
   ]
  },
  {
   "cell_type": "code",
   "execution_count": 19,
   "metadata": {
    "collapsed": false
   },
   "outputs": [
    {
     "data": {
      "text/plain": [
       "-3.50000000000000"
      ]
     },
     "execution_count": 19,
     "metadata": {
     },
     "output_type": "execute_result"
    }
   ],
   "source": [
    "S_top_r(0.01)"
   ]
  },
  {
   "cell_type": "markdown",
   "metadata": {
    "collapsed": false
   },
   "source": [
    "The above computation shows that if there is a 2% increase in $r$, then we expect a 7% decrease in the optimal selling time.\n"
   ]
  },
  {
   "cell_type": "markdown",
   "metadata": {
    "collapsed": false
   },
   "source": [
    "We wish to compute the sensitivity of the maximal profit with respect to the price drop rate for the pig. Using the work from above we see that the maximal profit, $P_{max}(r) = P_r(t_{op},r).$ This gives the maximal profit as a function of a single variable $r$, which allows us to compute $S(P_{max},r),$ the sensitivity of the maximal profit to $r.$"
   ]
  },
  {
   "cell_type": "code",
   "execution_count": 20,
   "metadata": {
    "collapsed": false
   },
   "outputs": [
   ],
   "source": [
    "Pmax(r) = Pr(top(r),r)"
   ]
  },
  {
   "cell_type": "code",
   "execution_count": 22,
   "metadata": {
    "collapsed": false
   },
   "outputs": [
    {
     "data": {
      "text/html": [
       "<html><script type=\"math/tex; mode=display\">\\newcommand{\\Bold}[1]{\\mathbf{#1}}-\\frac{1}{5} \\, {\\left(20 \\, r + 0.370000000000000\\right)} {\\left(\\frac{500 \\, r - 7}{r} - 1000\\right)} + \\frac{0.0180000000000000 \\, {\\left(500 \\, r - 7\\right)}}{r}</script></html>"
      ]
     },
     "execution_count": 22,
     "metadata": {
     },
     "output_type": "execute_result"
    }
   ],
   "source": [
    "show(Pmax(r))"
   ]
  },
  {
   "cell_type": "code",
   "execution_count": 25,
   "metadata": {
    "collapsed": false
   },
   "outputs": [
   ],
   "source": [
    "S_Pmax_r(r) = Pmax.diff()*r/Pmax"
   ]
  },
  {
   "cell_type": "code",
   "execution_count": 26,
   "metadata": {
    "collapsed": false
   },
   "outputs": [
    {
     "data": {
      "text/plain": [
       "-0.144144144144144"
      ]
     },
     "execution_count": 26,
     "metadata": {
     },
     "output_type": "execute_result"
    }
   ],
   "source": [
    "S_Pmax_r(0.01)"
   ]
  },
  {
   "cell_type": "markdown",
   "metadata": {
    "collapsed": false
   },
   "source": [
    "The above computatio"
   ]
  }
 ],
 "metadata": {
  "kernelspec": {
   "display_name": "SageMath (Development, Py3)",
   "language": "sagemath",
   "metadata": {
    "cocalc": {
     "description": "Open-source mathematical software system",
     "priority": -1,
     "url": "https://www.sagemath.org/"
    }
   },
   "name": "sage-develop"
  },
  "language_info": {
   "codemirror_mode": {
    "name": "ipython",
    "version": 3
   },
   "file_extension": ".py",
   "mimetype": "text/x-python",
   "name": "python",
   "nbconvert_exporter": "python",
   "pygments_lexer": "ipython3",
   "version": "3.7.3"
  }
 },
 "nbformat": 4,
 "nbformat_minor": 0
}